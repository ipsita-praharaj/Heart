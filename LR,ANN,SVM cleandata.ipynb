{
 "cells": [
  {
   "cell_type": "code",
   "execution_count": 3,
   "metadata": {
    "ExecuteTime": {
     "end_time": "2018-09-22T12:19:03.178693Z",
     "start_time": "2018-09-22T12:19:03.152689Z"
    }
   },
   "outputs": [],
   "source": [
    "import numpy as np\n",
    "from sklearn import linear_model,datasets,tree\n",
    "import matplotlib.pyplot as plt\n",
    "import pandas as pd\n",
    "import sklearn.metrics as metrics\n",
    "from sklearn import preprocessing\n",
    "from sklearn import model_selection\n",
    "from sklearn.metrics import accuracy_score\n",
    "from sklearn.metrics import confusion_matrix\n",
    "from sklearn.tree import DecisionTreeClassifier\n",
    "from sklearn.svm import SVC  \n",
    "from sklearn.neural_network import MLPClassifier\n",
    "from imblearn.over_sampling import SMOTE\n",
    "pd.set_option('display.max_columns', None)\n",
    "%matplotlib inline"
   ]
  },
  {
   "cell_type": "code",
   "execution_count": 4,
   "metadata": {
    "ExecuteTime": {
     "end_time": "2018-09-22T12:19:28.454720Z",
     "start_time": "2018-09-22T12:19:05.604784Z"
    }
   },
   "outputs": [],
   "source": [
    "iri = pd.read_excel('Clean_Data.xlsx')"
   ]
  },
  {
   "cell_type": "code",
   "execution_count": 6,
   "metadata": {
    "ExecuteTime": {
     "end_time": "2018-09-22T12:20:33.609138Z",
     "start_time": "2018-09-22T12:20:33.463225Z"
    },
    "scrolled": false
   },
   "outputs": [
    {
     "name": "stdout",
     "output_type": "stream",
     "text": [
      "Class 0: 11528\n",
      "Class 1: 4052\n",
      "Proportion: 2.845014807502468 : 1\n"
     ]
    },
    {
     "data": {
      "text/plain": [
       "([<matplotlib.axis.XTick at 0x25e0eafc4a8>,\n",
       "  <matplotlib.axis.XTick at 0x25e0c8a3da0>],\n",
       " <a list of 2 Text xticklabel objects>)"
      ]
     },
     "execution_count": 6,
     "metadata": {},
     "output_type": "execute_result"
    },
    {
     "data": {
      "image/png": "[encoded data removed]",
      "text/plain": [
       "<Figure size 432x288 with 1 Axes>"
      ]
     },
     "metadata": {},
     "output_type": "display_data"
    }
   ],
   "source": [
    "iris=iri #.select_dtypes(['number'])\n",
    "for column in iris.columns:\n",
    "    if iris[column].dtype == type(object):\n",
    "        le = preprocessing.LabelEncoder()\n",
    "        iris[column] = le.fit_transform(iris[column])\n",
    "iri2=iris\n",
    "X=iri2.drop(labels=['GSTATUS'], axis=1).values\n",
    "Y = iri2.GSTATUS.values\n",
    "unique, counts = np.unique(Y, return_counts=True)\n",
    "target_count=dict(zip(unique, counts))\n",
    "print('Class 0:', target_count[0])\n",
    "print('Class 1:', target_count[1])\n",
    "print('Proportion:', target_count[0] / target_count[1], ': 1')\n",
    "dictionary = plt.figure()\n",
    "plt.bar(range(len(target_count)), target_count.values(), align='center')\n",
    "plt.xticks(range(len(target_count)), target_count.keys())"
   ]
  },
  {
   "cell_type": "code",
   "execution_count": 4,
   "metadata": {
    "ExecuteTime": {
     "end_time": "2018-09-21T16:09:53.795298Z",
     "start_time": "2018-09-21T16:09:53.733336Z"
    }
   },
   "outputs": [],
   "source": [
    "X_train, X_test, Y_train, Y_test = model_selection.train_test_split(X, Y, test_size=0.2, random_state=10)\n",
    "X_train, X_val, Y_train, Y_val = model_selection.train_test_split(X_train,Y_train, test_size=0.2, random_state=10)"
   ]
  },
  {
   "cell_type": "code",
   "execution_count": 5,
   "metadata": {
    "ExecuteTime": {
     "end_time": "2018-09-21T16:09:53.812057Z",
     "start_time": "2018-09-21T16:09:53.796431Z"
    }
   },
   "outputs": [],
   "source": [
    "def evaluate_threshold(threshold,tpr,fpr,thresholds):\n",
    "    print('Sensitivity:', tpr[thresholds > threshold][-1])\n",
    "    print('Specificity:', 1 - fpr[thresholds > threshold][-1])"
   ]
  },
  {
   "cell_type": "code",
   "execution_count": 6,
   "metadata": {
    "ExecuteTime": {
     "end_time": "2018-09-21T16:09:53.843304Z",
     "start_time": "2018-09-21T16:09:53.812057Z"
    }
   },
   "outputs": [],
   "source": [
    "def acuracy_auc_and_confusionmatrix(model,x_val,y_val,x_test,y_test):\n",
    "    validation_set_predictions = [model.predict(x_val[i].reshape((1,132))) for i in range(x_val.shape[0])]\n",
    "    validation_misclassification_percentage = 0\n",
    "    for i in range(len(validation_set_predictions)):\n",
    "        if validation_set_predictions[i]!=y_val[i]:\n",
    "            validation_misclassification_percentage+=1\n",
    "    validation_misclassification_percentage *= 100/len(y_val)\n",
    "    print ('validation misclassification percentage =', validation_misclassification_percentage, '%')\n",
    "    test_set_predictions = [model.predict(x_test[i].reshape((1,132))) for i in range(x_test.shape[0])]\n",
    "    print(x_test.shape)\n",
    "    test_misclassification_percentage = 0\n",
    "    for i in range(len(test_set_predictions)):\n",
    "        if test_set_predictions[i]!=y_test[i]:\n",
    "            test_misclassification_percentage+=1\n",
    "    test_misclassification_percentage *= 100/len(y_test)\n",
    "    print ('test misclassification percentage =', test_misclassification_percentage, '%')\n",
    "    print(accuracy_score(y_val, validation_set_predictions),accuracy_score(y_test, test_set_predictions))\n",
    "    print(confusion_matrix(y_val, validation_set_predictions))\n",
    "    print(confusion_matrix(y_test, test_set_predictions))\n",
    "    fpr, tpr, thresholds = metrics.roc_curve(y_test, test_set_predictions)\n",
    "    plt.plot(fpr, tpr)\n",
    "    plt.xlim([0.0, 1.0])\n",
    "    plt.ylim([0.0, 1.0])\n",
    "    plt.title('ROC curve for diabetes classifier')\n",
    "    plt.xlabel('False Positive Rate (1 - Specificity)')\n",
    "    plt.ylabel('True Positive Rate (Sensitivity)')\n",
    "    plt.grid(True)\n",
    "    evaluate_threshold(0.5,tpr,fpr,thresholds)\n",
    "    print(metrics.roc_auc_score(y_test, test_set_predictions))\n"
   ]
  },
  {
   "cell_type": "code",
   "execution_count": 7,
   "metadata": {
    "ExecuteTime": {
     "end_time": "2018-09-21T16:09:55.228399Z",
     "start_time": "2018-09-21T16:09:53.843304Z"
    },
    "scrolled": false
   },
   "outputs": [
    {
     "name": "stdout",
     "output_type": "stream",
     "text": [
      "validation misclassification percentage = 0.0 %\n",
      "(3116, 132)\n",
      "test misclassification percentage = 0.12836970474967907 %\n",
      "1.0 0.9987163029525032\n",
      "[[1851    0]\n",
      " [   0  642]]\n",
      "[[2280    2]\n",
      " [   2  832]]\n",
      "Sensitivity: 0.9976019184652278\n",
      "Specificity: 0.9991235758106923\n",
      "0.99836274713796\n"
     ]
    },
    {
     "data": {
      "image/png": "[encoded data removed]",
      "text/plain": [
       "<Figure size 432x288 with 1 Axes>"
      ]
     },
     "metadata": {},
     "output_type": "display_data"
    }
   ],
   "source": [
    "model = linear_model.LogisticRegression(C=1e5)#C is the inverse of the regularization factor\n",
    "model.fit(X_train,Y_train)\n",
    "acuracy_auc_and_confusionmatrix(model,X_val,Y_val,X_test,Y_test)"
   ]
  },
  {
   "cell_type": "code",
   "execution_count": 8,
   "metadata": {
    "ExecuteTime": {
     "end_time": "2018-09-21T16:09:57.453190Z",
     "start_time": "2018-09-21T16:09:55.231397Z"
    }
   },
   "outputs": [
    {
     "name": "stdout",
     "output_type": "stream",
     "text": [
      "validation misclassification percentage = 0.20056157240272765 %\n",
      "(3116, 132)\n",
      "test misclassification percentage = 0.16046213093709882 %\n",
      "0.9979943842759728 0.998395378690629\n",
      "[[1851    0]\n",
      " [   5  637]]\n",
      "[[2281    1]\n",
      " [   4  830]]\n",
      "Sensitivity: 0.9952038369304557\n",
      "Specificity: 0.9995617879053462\n",
      "0.9973828124179009\n"
     ]
    },
    {
     "data": {
      "image/png": "[encoded data removed]",
      "text/plain": [
       "<Figure size 432x288 with 1 Axes>"
      ]
     },
     "metadata": {},
     "output_type": "display_data"
    }
   ],
   "source": [
    "mlp = MLPClassifier(hidden_layer_sizes=(30,30,30),max_iter=200000)\n",
    "mlp.fit(X_train,Y_train)\n",
    "acuracy_auc_and_confusionmatrix(mlp,X_val,Y_val,X_test,Y_test)"
   ]
  },
  {
   "cell_type": "code",
   "execution_count": 9,
   "metadata": {
    "ExecuteTime": {
     "end_time": "2018-09-21T16:09:58.168690Z",
     "start_time": "2018-09-21T16:09:57.458183Z"
    }
   },
   "outputs": [
    {
     "name": "stdout",
     "output_type": "stream",
     "text": [
      "validation misclassification percentage = 0.08022462896109106 %\n",
      "(3116, 132)\n",
      "test misclassification percentage = 0.03209242618741977 %\n",
      "0.9991977537103891 0.9996790757381258\n",
      "[[1851    0]\n",
      " [   2  640]]\n",
      "[[2281    1]\n",
      " [   0  834]]\n",
      "Sensitivity: 1.0\n",
      "Specificity: 0.9995617879053462\n",
      "0.9997808939526731\n"
     ]
    },
    {
     "data": {
      "image/png": "[encoded data removed]",
      "text/plain": [
       "<Figure size 432x288 with 1 Axes>"
      ]
     },
     "metadata": {},
     "output_type": "display_data"
    }
   ],
   "source": [
    "svclassifierpoly = SVC(kernel='poly', degree=6)  \n",
    "svclassifierpoly.fit(X_train, Y_train)  \n",
    "acuracy_auc_and_confusionmatrix(svclassifierpoly,X_val,Y_val,X_test,Y_test)"
   ]
  },
  {
   "cell_type": "code",
   "execution_count": 10,
   "metadata": {
    "ExecuteTime": {
     "end_time": "2018-09-21T16:09:58.868300Z",
     "start_time": "2018-09-21T16:09:58.174085Z"
    }
   },
   "outputs": [
    {
     "name": "stdout",
     "output_type": "stream",
     "text": [
      "validation misclassification percentage = 0.04011231448054553 %\n",
      "(3116, 132)\n",
      "test misclassification percentage = 0.03209242618741977 %\n",
      "0.9995988768551946 0.9996790757381258\n",
      "[[1851    0]\n",
      " [   1  641]]\n",
      "[[2281    1]\n",
      " [   0  834]]\n",
      "Sensitivity: 1.0\n",
      "Specificity: 0.9995617879053462\n",
      "0.9997808939526731\n"
     ]
    },
    {
     "data": {
      "image/png": "[encoded data removed]",
      "text/plain": [
       "<Figure size 432x288 with 1 Axes>"
      ]
     },
     "metadata": {},
     "output_type": "display_data"
    }
   ],
   "source": [
    "svclassifierlinear = SVC(kernel='linear')  \n",
    "svclassifierlinear.fit(X_train, Y_train)\n",
    "acuracy_auc_and_confusionmatrix(svclassifierlinear,X_val,Y_val,X_test,Y_test)"
   ]
  },
  {
   "cell_type": "code",
   "execution_count": 11,
   "metadata": {
    "ExecuteTime": {
     "end_time": "2018-09-21T16:09:59.448923Z",
     "start_time": "2018-09-21T16:09:58.871647Z"
    }
   },
   "outputs": [
    {
     "name": "stdout",
     "output_type": "stream",
     "text": [
      "validation misclassification percentage = 0.0 %\n",
      "(3116, 132)\n",
      "test misclassification percentage = 0.0 %\n",
      "1.0 1.0\n",
      "[[1851    0]\n",
      " [   0  642]]\n",
      "[[2282    0]\n",
      " [   0  834]]\n",
      "Sensitivity: 1.0\n",
      "Specificity: 1.0\n",
      "1.0\n"
     ]
    },
    {
     "data": {
      "image/png": "[encoded data removed]",
      "text/plain": [
       "<Figure size 432x288 with 1 Axes>"
      ]
     },
     "metadata": {},
     "output_type": "display_data"
    }
   ],
   "source": [
    "model = DecisionTreeClassifier()\n",
    "model.fit(X_train, Y_train)\n",
    "acuracy_auc_and_confusionmatrix(model,X_val,Y_val,X_test,Y_test)"
   ]
  },
  {
   "cell_type": "code",
   "execution_count": 12,
   "metadata": {
    "ExecuteTime": {
     "end_time": "2018-09-21T16:09:59.462897Z",
     "start_time": "2018-09-21T16:09:59.448923Z"
    }
   },
   "outputs": [],
   "source": [
    "def acuracy_auc_and_confusionmatrix10Fold(model,x_test,y_test):\n",
    "    test_set_predictions = [model.predict(x_test[i].reshape((1,132))) for i in range(x_test.shape[0])]\n",
    "    print(x_test.shape)\n",
    "    test_misclassification_percentage = 0\n",
    "    for i in range(len(test_set_predictions)):\n",
    "        if test_set_predictions[i]!=y_test[i]:\n",
    "            test_misclassification_percentage+=1\n",
    "    test_misclassification_percentage *= 100/len(y_test)\n",
    "    from sklearn.metrics import accuracy_score\n",
    "    from sklearn.metrics import confusion_matrix\n",
    "    ac=accuracy_score(y_test, test_set_predictions)\n",
    "    print(ac)\n",
    "    print(confusion_matrix(y_test, test_set_predictions))  \n",
    "    fpr, tpr, thresholds = metrics.roc_curve(y_test, test_set_predictions)\n",
    "    evaluate_threshold(0.5,tpr,fpr,thresholds)\n",
    "    auc=metrics.roc_auc_score(y_test, test_set_predictions)\n",
    "    print(auc)\n",
    "    return (ac,auc) "
   ]
  },
  {
   "cell_type": "code",
   "execution_count": 13,
   "metadata": {
    "ExecuteTime": {
     "end_time": "2018-09-21T16:10:22.293708Z",
     "start_time": "2018-09-21T16:09:59.466896Z"
    }
   },
   "outputs": [
    {
     "name": "stdout",
     "output_type": "stream",
     "text": [
      "(1558, 132)\n",
      "0.993581514762516\n",
      "[[1145   10]\n",
      " [   0  403]]\n",
      "Sensitivity: 1.0\n",
      "Specificity: 0.9913419913419913\n",
      "0.9956709956709956\n",
      "(1558, 132)\n",
      "0.9993581514762516\n",
      "[[1159    0]\n",
      " [   1  398]]\n",
      "Sensitivity: 0.9974937343358395\n",
      "Specificity: 1.0\n",
      "0.9987468671679198\n",
      "(1558, 132)\n",
      "0.9961489088575096\n",
      "[[1168    4]\n",
      " [   2  384]]\n",
      "Sensitivity: 0.9948186528497409\n",
      "Specificity: 0.9965870307167235\n",
      "0.9957028417832322\n",
      "(1558, 132)\n",
      "0.9505776636713735\n",
      "[[1076   77]\n",
      " [   0  405]]\n",
      "Sensitivity: 1.0\n",
      "Specificity: 0.9332176929748482\n",
      "0.9666088464874242\n",
      "(1558, 132)\n",
      "0.9974326059050064\n",
      "[[1142    0]\n",
      " [   4  412]]\n",
      "Sensitivity: 0.9903846153846154\n",
      "Specificity: 1.0\n",
      "0.9951923076923077\n",
      "(1558, 132)\n",
      "0.9980744544287549\n",
      "[[1169    1]\n",
      " [   2  386]]\n",
      "Sensitivity: 0.9948453608247423\n",
      "Specificity: 0.9991452991452991\n",
      "0.9969953299850207\n",
      "(1558, 132)\n",
      "0.9980744544287549\n",
      "[[1166    1]\n",
      " [   2  389]]\n",
      "Sensitivity: 0.9948849104859335\n",
      "Specificity: 0.9991431019708654\n",
      "0.9970140062283995\n",
      "(1558, 132)\n",
      "0.9942233632862645\n",
      "[[1109    9]\n",
      " [   0  440]]\n",
      "Sensitivity: 1.0\n",
      "Specificity: 0.9919499105545617\n",
      "0.9959749552772809\n",
      "(1558, 132)\n",
      "1.0\n",
      "[[1112    0]\n",
      " [   0  446]]\n",
      "Sensitivity: 1.0\n",
      "Specificity: 1.0\n",
      "1.0\n",
      "(1558, 132)\n",
      "0.9987163029525032\n",
      "[[1178    2]\n",
      " [   0  378]]\n",
      "Sensitivity: 1.0\n",
      "Specificity: 0.9983050847457627\n",
      "0.9991525423728814\n",
      "10foldcrossvalidation acuracy for ann 0.9926187419768935\n",
      "10foldcrossvalidation auc for ann 0.9941058692665463\n"
     ]
    }
   ],
   "source": [
    "#using 10-fold cross valitation\n",
    "K = 10\n",
    "ac=[]\n",
    "auc=[]\n",
    "kf = model_selection.KFold(n_splits=K, shuffle=True, random_state=42)\n",
    "for train_index, val_index in kf.split(X, Y):\n",
    "    X_train, X_test = X[train_index], X[val_index]\n",
    "    y_train, y_test = Y[train_index], Y[val_index]\n",
    "    mlp = MLPClassifier(hidden_layer_sizes=(30,30,30),max_iter=200000)\n",
    "    mlp.fit(X_train,y_train)\n",
    "    acg,aucg=acuracy_auc_and_confusionmatrix10Fold(mlp,X_test,y_test)\n",
    "    ac.append(acg)\n",
    "    auc.append(aucg)\n",
    "print(\"10foldcrossvalidation acuracy for ann\",np.mean(ac))\n",
    "print(\"10foldcrossvalidation auc for ann\",np.mean(auc))\n"
   ]
  },
  {
   "cell_type": "code",
   "execution_count": 14,
   "metadata": {
    "ExecuteTime": {
     "end_time": "2018-09-21T16:10:32.112233Z",
     "start_time": "2018-09-21T16:10:22.296707Z"
    }
   },
   "outputs": [
    {
     "name": "stdout",
     "output_type": "stream",
     "text": [
      "(1558, 132)\n",
      "1.0\n",
      "[[1155    0]\n",
      " [   0  403]]\n",
      "Sensitivity: 1.0\n",
      "Specificity: 1.0\n",
      "1.0\n",
      "(1558, 132)\n",
      "0.9987163029525032\n",
      "[[1159    0]\n",
      " [   2  397]]\n",
      "Sensitivity: 0.9949874686716792\n",
      "Specificity: 1.0\n",
      "0.9974937343358397\n",
      "(1558, 132)\n",
      "0.9987163029525032\n",
      "[[1171    1]\n",
      " [   1  385]]\n",
      "Sensitivity: 0.9974093264248705\n",
      "Specificity: 0.9991467576791809\n",
      "0.9982780420520256\n",
      "(1558, 132)\n",
      "0.9987163029525032\n",
      "[[1152    1]\n",
      " [   1  404]]\n",
      "Sensitivity: 0.9975308641975309\n",
      "Specificity: 0.9991326973113617\n",
      "0.9983317807544463\n",
      "(1558, 132)\n",
      "0.9987163029525032\n",
      "[[1142    0]\n",
      " [   2  414]]\n",
      "Sensitivity: 0.9951923076923077\n",
      "Specificity: 1.0\n",
      "0.9975961538461539\n",
      "(1558, 132)\n",
      "1.0\n",
      "[[1170    0]\n",
      " [   0  388]]\n",
      "Sensitivity: 1.0\n",
      "Specificity: 1.0\n",
      "1.0\n",
      "(1558, 132)\n",
      "0.9987163029525032\n",
      "[[1166    1]\n",
      " [   1  390]]\n",
      "Sensitivity: 0.9974424552429667\n",
      "Specificity: 0.9991431019708654\n",
      "0.998292778606916\n",
      "(1558, 132)\n",
      "0.9974326059050064\n",
      "[[1117    1]\n",
      " [   3  437]]\n",
      "Sensitivity: 0.9931818181818182\n",
      "Specificity: 0.9991055456171736\n",
      "0.996143681899496\n",
      "(1558, 132)\n",
      "0.9993581514762516\n",
      "[[1111    1]\n",
      " [   0  446]]\n",
      "Sensitivity: 1.0\n",
      "Specificity: 0.9991007194244604\n",
      "0.9995503597122303\n",
      "(1558, 132)\n",
      "0.9987163029525032\n",
      "[[1179    1]\n",
      " [   1  377]]\n",
      "Sensitivity: 0.9973544973544973\n",
      "Specificity: 0.9991525423728813\n",
      "0.9982535198636893\n",
      "10foldcrossvalidation acuracy for lr 0.9989088575096279\n",
      "10foldcrossvalidation auc for lr 0.9983940051070798\n"
     ]
    }
   ],
   "source": [
    "#using 10-fold cross valitation\n",
    "K = 10\n",
    "ac=[]\n",
    "auc=[]\n",
    "kf = model_selection.KFold(n_splits=K, shuffle=True, random_state=42)\n",
    "for train_index, val_index in kf.split(X, Y):\n",
    "    X_train, X_test = X[train_index], X[val_index]\n",
    "    y_train, y_test = Y[train_index], Y[val_index]\n",
    "    model = linear_model.LogisticRegression(C=1e5)#C is the inverse of the regularization factor\n",
    "    model.fit(X_train,y_train)\n",
    "    acg,aucg=acuracy_auc_and_confusionmatrix10Fold(model,X_test,y_test)\n",
    "    ac.append(acg)\n",
    "    auc.append(aucg)\n",
    "print(\"10foldcrossvalidation acuracy for lr\",np.mean(ac))\n",
    "print(\"10foldcrossvalidation auc for lr\",np.mean(auc))\n"
   ]
  },
  {
   "cell_type": "code",
   "execution_count": 15,
   "metadata": {
    "ExecuteTime": {
     "end_time": "2018-09-21T16:10:34.448243Z",
     "start_time": "2018-09-21T16:10:32.115231Z"
    }
   },
   "outputs": [
    {
     "name": "stdout",
     "output_type": "stream",
     "text": [
      "(1558, 132)\n",
      "1.0\n",
      "[[1155    0]\n",
      " [   0  403]]\n",
      "Sensitivity: 1.0\n",
      "Specificity: 1.0\n",
      "1.0\n",
      "(1558, 132)\n",
      "1.0\n",
      "[[1159    0]\n",
      " [   0  399]]\n",
      "Sensitivity: 1.0\n",
      "Specificity: 1.0\n",
      "1.0\n",
      "(1558, 132)\n",
      "1.0\n",
      "[[1172    0]\n",
      " [   0  386]]\n",
      "Sensitivity: 1.0\n",
      "Specificity: 1.0\n",
      "1.0\n",
      "(1558, 132)\n",
      "0.9993581514762516\n",
      "[[1152    1]\n",
      " [   0  405]]\n",
      "Sensitivity: 1.0\n",
      "Specificity: 0.9991326973113617\n",
      "0.9995663486556808\n",
      "(1558, 132)\n",
      "0.9993581514762516\n",
      "[[1141    1]\n",
      " [   0  416]]\n",
      "Sensitivity: 1.0\n",
      "Specificity: 0.999124343257443\n",
      "0.9995621716287215\n",
      "(1558, 132)\n",
      "1.0\n",
      "[[1170    0]\n",
      " [   0  388]]\n",
      "Sensitivity: 1.0\n",
      "Specificity: 1.0\n",
      "1.0\n",
      "(1558, 132)\n",
      "1.0\n",
      "[[1167    0]\n",
      " [   0  391]]\n",
      "Sensitivity: 1.0\n",
      "Specificity: 1.0\n",
      "1.0\n",
      "(1558, 132)\n",
      "1.0\n",
      "[[1118    0]\n",
      " [   0  440]]\n",
      "Sensitivity: 1.0\n",
      "Specificity: 1.0\n",
      "1.0\n",
      "(1558, 132)\n",
      "0.9993581514762516\n",
      "[[1111    1]\n",
      " [   0  446]]\n",
      "Sensitivity: 1.0\n",
      "Specificity: 0.9991007194244604\n",
      "0.9995503597122303\n",
      "(1558, 132)\n",
      "1.0\n",
      "[[1180    0]\n",
      " [   0  378]]\n",
      "Sensitivity: 1.0\n",
      "Specificity: 1.0\n",
      "1.0\n",
      "10foldcrossvalidation acuracy for svmlinear 0.9998074454428755\n",
      "10foldcrossvalidation auc for svmlinear 0.9998678879996634\n"
     ]
    }
   ],
   "source": [
    "#using 10-fold cross valitation\n",
    "K = 10\n",
    "ac=[]\n",
    "auc=[]\n",
    "kf = model_selection.KFold(n_splits=K, shuffle=True, random_state=42)\n",
    "for train_index, val_index in kf.split(X, Y):\n",
    "    X_train, X_test = X[train_index], X[val_index]\n",
    "    y_train, y_test = Y[train_index], Y[val_index]\n",
    "    svclassifierlinear = SVC(kernel='linear')  \n",
    "    svclassifierlinear.fit(X_train, y_train)\n",
    "    acg,aucg=acuracy_auc_and_confusionmatrix10Fold(svclassifierlinear,X_test,y_test)\n",
    "    ac.append(acg)\n",
    "    auc.append(aucg)\n",
    "print(\"10foldcrossvalidation acuracy for svmlinear\",np.mean(ac))\n",
    "print(\"10foldcrossvalidation auc for svmlinear\",np.mean(auc))"
   ]
  },
  {
   "cell_type": "code",
   "execution_count": 16,
   "metadata": {
    "ExecuteTime": {
     "end_time": "2018-09-21T16:10:36.670277Z",
     "start_time": "2018-09-21T16:10:34.448243Z"
    }
   },
   "outputs": [
    {
     "name": "stdout",
     "output_type": "stream",
     "text": [
      "(1558, 132)\n",
      "1.0\n",
      "[[1155    0]\n",
      " [   0  403]]\n",
      "Sensitivity: 1.0\n",
      "Specificity: 1.0\n",
      "1.0\n",
      "(1558, 132)\n",
      "1.0\n",
      "[[1159    0]\n",
      " [   0  399]]\n",
      "Sensitivity: 1.0\n",
      "Specificity: 1.0\n",
      "1.0\n",
      "(1558, 132)\n",
      "1.0\n",
      "[[1172    0]\n",
      " [   0  386]]\n",
      "Sensitivity: 1.0\n",
      "Specificity: 1.0\n",
      "1.0\n",
      "(1558, 132)\n",
      "1.0\n",
      "[[1153    0]\n",
      " [   0  405]]\n",
      "Sensitivity: 1.0\n",
      "Specificity: 1.0\n",
      "1.0\n",
      "(1558, 132)\n",
      "1.0\n",
      "[[1142    0]\n",
      " [   0  416]]\n",
      "Sensitivity: 1.0\n",
      "Specificity: 1.0\n",
      "1.0\n",
      "(1558, 132)\n",
      "1.0\n",
      "[[1170    0]\n",
      " [   0  388]]\n",
      "Sensitivity: 1.0\n",
      "Specificity: 1.0\n",
      "1.0\n",
      "(1558, 132)\n",
      "1.0\n",
      "[[1167    0]\n",
      " [   0  391]]\n",
      "Sensitivity: 1.0\n",
      "Specificity: 1.0\n",
      "1.0\n",
      "(1558, 132)\n",
      "1.0\n",
      "[[1118    0]\n",
      " [   0  440]]\n",
      "Sensitivity: 1.0\n",
      "Specificity: 1.0\n",
      "1.0\n",
      "(1558, 132)\n",
      "0.9993581514762516\n",
      "[[1112    0]\n",
      " [   1  445]]\n",
      "Sensitivity: 0.9977578475336323\n",
      "Specificity: 1.0\n",
      "0.9988789237668161\n",
      "(1558, 132)\n",
      "1.0\n",
      "[[1180    0]\n",
      " [   0  378]]\n",
      "Sensitivity: 1.0\n",
      "Specificity: 1.0\n",
      "1.0\n",
      "10foldcrossvalidation acuracy for svmpoly 0.9999358151476251\n",
      "10foldcrossvalidation auc for svmpoly 0.9998878923766815\n"
     ]
    }
   ],
   "source": [
    "#using 10-fold cross valitation\n",
    "K = 10\n",
    "ac=[]\n",
    "auc=[]\n",
    "kf = model_selection.KFold(n_splits=K, shuffle=True, random_state=42)\n",
    "for train_index, val_index in kf.split(X, Y):\n",
    "    X_train, X_test = X[train_index], X[val_index]\n",
    "    y_train, y_test = Y[train_index], Y[val_index]\n",
    "    svclassifierpoly = SVC(kernel='poly', degree=6)  \n",
    "    svclassifierpoly.fit(X_train, y_train)  \n",
    "    acg,aucg=acuracy_auc_and_confusionmatrix10Fold(svclassifierpoly,X_test,y_test)\n",
    "    ac.append(acg)\n",
    "    auc.append(aucg)\n",
    "print(\"10foldcrossvalidation acuracy for svmpoly\",np.mean(ac))\n",
    "print(\"10foldcrossvalidation auc for svmpoly\",np.mean(auc))"
   ]
  },
  {
   "cell_type": "code",
   "execution_count": 17,
   "metadata": {
    "ExecuteTime": {
     "end_time": "2018-09-21T16:10:38.497374Z",
     "start_time": "2018-09-21T16:10:36.670277Z"
    }
   },
   "outputs": [
    {
     "name": "stdout",
     "output_type": "stream",
     "text": [
      "(1558, 132)\n",
      "1.0\n",
      "[[1155    0]\n",
      " [   0  403]]\n",
      "Sensitivity: 1.0\n",
      "Specificity: 1.0\n",
      "1.0\n",
      "(1558, 132)\n",
      "1.0\n",
      "[[1159    0]\n",
      " [   0  399]]\n",
      "Sensitivity: 1.0\n",
      "Specificity: 1.0\n",
      "1.0\n",
      "(1558, 132)\n",
      "1.0\n",
      "[[1172    0]\n",
      " [   0  386]]\n",
      "Sensitivity: 1.0\n",
      "Specificity: 1.0\n",
      "1.0\n",
      "(1558, 132)\n",
      "1.0\n",
      "[[1153    0]\n",
      " [   0  405]]\n",
      "Sensitivity: 1.0\n",
      "Specificity: 1.0\n",
      "1.0\n",
      "(1558, 132)\n",
      "1.0\n",
      "[[1142    0]\n",
      " [   0  416]]\n",
      "Sensitivity: 1.0\n",
      "Specificity: 1.0\n",
      "1.0\n",
      "(1558, 132)\n",
      "0.9993581514762516\n",
      "[[1170    0]\n",
      " [   1  387]]\n",
      "Sensitivity: 0.9974226804123711\n",
      "Specificity: 1.0\n",
      "0.9987113402061856\n",
      "(1558, 132)\n",
      "1.0\n",
      "[[1167    0]\n",
      " [   0  391]]\n",
      "Sensitivity: 1.0\n",
      "Specificity: 1.0\n",
      "1.0\n",
      "(1558, 132)\n",
      "1.0\n",
      "[[1118    0]\n",
      " [   0  440]]\n",
      "Sensitivity: 1.0\n",
      "Specificity: 1.0\n",
      "1.0\n",
      "(1558, 132)\n",
      "1.0\n",
      "[[1112    0]\n",
      " [   0  446]]\n",
      "Sensitivity: 1.0\n",
      "Specificity: 1.0\n",
      "1.0\n",
      "(1558, 132)\n",
      "1.0\n",
      "[[1180    0]\n",
      " [   0  378]]\n",
      "Sensitivity: 1.0\n",
      "Specificity: 1.0\n",
      "1.0\n",
      "10foldcrossvalidation acuracy for cart 0.9999358151476251\n",
      "10foldcrossvalidation auc for cart 0.9998711340206186\n"
     ]
    }
   ],
   "source": [
    "#using 10-fold cross valitation\n",
    "K = 10\n",
    "ac=[]\n",
    "auc=[]\n",
    "kf = model_selection.KFold(n_splits=K, shuffle=True, random_state=42)\n",
    "for train_index, val_index in kf.split(X, Y):\n",
    "    X_train, X_test = X[train_index], X[val_index]\n",
    "    y_train, y_test = Y[train_index], Y[val_index]\n",
    "    model = DecisionTreeClassifier()\n",
    "    model.fit(X_train, y_train)\n",
    "    acg,aucg=acuracy_auc_and_confusionmatrix10Fold(model,X_test,y_test)\n",
    "    ac.append(acg)\n",
    "    auc.append(aucg)\n",
    "print(\"10foldcrossvalidation acuracy for cart\",np.mean(ac))\n",
    "print(\"10foldcrossvalidation auc for cart\",np.mean(auc))"
   ]
  }
 ],
 "metadata": {
  "kernelspec": {
   "display_name": "Python 3",
   "language": "python",
   "name": "python3"
  },
  "language_info": {
   "codemirror_mode": {
    "name": "ipython",
    "version": 3
   },
   "file_extension": ".py",
   "mimetype": "text/x-python",
   "name": "python",
   "nbconvert_exporter": "python",
   "pygments_lexer": "ipython3",
   "version": "3.6.5"
  },
  "varInspector": {
   "cols": {
    "lenName": 16,
    "lenType": 16,
    "lenVar": 40
   },
   "kernels_config": {
    "python": {
     "delete_cmd_postfix": "",
     "delete_cmd_prefix": "del ",
     "library": "var_list.py",
     "varRefreshCmd": "print(var_dic_list())"
    },
    "r": {
     "delete_cmd_postfix": ") ",
     "delete_cmd_prefix": "rm(",
     "library": "var_list.r",
     "varRefreshCmd": "cat(var_dic_list()) "
    }
   },
   "types_to_exclude": [
    "module",
    "function",
    "builtin_function_or_method",
    "instance",
    "_Feature"
   ],
   "window_display": false
  }
 },
 "nbformat": 4,
 "nbformat_minor": 2
}
