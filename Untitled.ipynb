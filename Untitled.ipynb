{
 "cells": [
  {
   "cell_type": "code",
   "execution_count": 454,
   "metadata": {
    "ExecuteTime": {
     "end_time": "2018-09-18T20:28:35.362954Z",
     "start_time": "2018-09-18T20:28:35.353960Z"
    }
   },
   "outputs": [],
   "source": [
    "# pandas for handling our data\n",
    "import pandas as pd\n",
    "# matplotlib and seaborn for visualize our data\n",
    "import matplotlib.pyplot as plt\n",
    "import seaborn as sns\n",
    "# numpy for numeric operations\n",
    "import numpy as np\n",
    "# tensorflow! our machine learning library\n",
    "import tensorflow as tf\n",
    "# train_test_split from sklearn for splitting our data into train and test set\n",
    "from sklearn.model_selection import train_test_split\n",
    "# OneHotEncoder from sklearn for converting features and labels to one-hot encoding\n",
    "from sklearn.preprocessing import OneHotEncoder\n",
    "#%matplotlib inline sets the backend of matplotlib to the 'inline' backend. \n",
    "%matplotlib inline\n"
   ]
  },
  {
   "cell_type": "code",
   "execution_count": 455,
   "metadata": {
    "ExecuteTime": {
     "end_time": "2018-09-18T20:28:36.712676Z",
     "start_time": "2018-09-18T20:28:36.703902Z"
    }
   },
   "outputs": [],
   "source": [
    "from __future__ import print_function"
   ]
  },
  {
   "cell_type": "code",
   "execution_count": 456,
   "metadata": {
    "ExecuteTime": {
     "end_time": "2018-09-18T20:29:05.675165Z",
     "start_time": "2018-09-18T20:28:38.682895Z"
    }
   },
   "outputs": [],
   "source": [
    "import tensorflow as tf\n",
    "iri = pd.read_excel('1_YEAR_10.FOLD.xlsx')\n",
    "iri2 = pd.read_excel('1_YEAR_9.FOLD.xlsx')\n",
    "iris=iri.select_dtypes(['number'])\n",
    "iris2=iri2.select_dtypes(['number'])\n"
   ]
  },
  {
   "cell_type": "code",
   "execution_count": 457,
   "metadata": {
    "ExecuteTime": {
     "end_time": "2018-09-18T20:29:07.358206Z",
     "start_time": "2018-09-18T20:29:07.350209Z"
    }
   },
   "outputs": [],
   "source": [
    "iris.head()\n",
    "def min_max_normalized(data):\n",
    "    col_max = np.max(data, axis=0)\n",
    "    col_min = np.min(data, axis=0)\n",
    "    return np.divide(data - col_min, col_max - col_min)"
   ]
  },
  {
   "cell_type": "code",
   "execution_count": 465,
   "metadata": {
    "ExecuteTime": {
     "end_time": "2018-09-18T20:32:16.490466Z",
     "start_time": "2018-09-18T20:32:16.426487Z"
    }
   },
   "outputs": [
    {
     "data": {
      "text/plain": [
       "array([0.00000000e+00, 8.33333333e-01, 5.83333333e-01, 6.66666667e-01,\n",
       "       0.00000000e+00, 2.19780220e-01, 5.09632723e-02, 0.00000000e+00,\n",
       "       1.00300903e-03, 1.00200401e-03, 5.00000000e-01, 3.49344978e-02,\n",
       "       0.00000000e+00, 8.48356310e-03, 0.00000000e+00, 3.00751880e-03,\n",
       "       3.91474554e-03, 5.02008032e-03, 1.00401606e-02, 2.00601805e-03,\n",
       "       3.84615385e-02, 0.00000000e+00, 1.44064810e-01, 0.00000000e+00,\n",
       "       3.00902708e-03, 0.00000000e+00, 3.75000000e-01, 3.00902708e-03,\n",
       "       0.00000000e+00, 1.00000000e+00, 5.04757258e-01, 5.04757258e-01,\n",
       "       0.00000000e+00, 1.22222222e-01, 1.72222222e-01, 7.09844560e-01,\n",
       "       0.00000000e+00, 1.66666667e-01, 6.66666667e-01, 0.00000000e+00,\n",
       "       2.02224469e-02, 0.00000000e+00, 0.00000000e+00, 0.00000000e+00,\n",
       "       0.00000000e+00, 1.53846154e-01, 1.53846154e-01, 0.00000000e+00,\n",
       "       1.00000000e+00, 4.00000000e-01, 7.93338622e-04, 5.00000000e-01,\n",
       "       3.52303523e-02, 3.84615385e-02, 1.60320641e-02, 0.00000000e+00,\n",
       "       0.00000000e+00, 4.23942889e-01, 4.10270563e-01, 0.00000000e+00,\n",
       "       5.00000000e-01, 0.00000000e+00, 1.00000000e+00, 3.59832636e-02,\n",
       "       5.00000000e-01, 5.00000000e-01, 0.00000000e+00, 1.75000000e-01,\n",
       "       2.37704918e-01, 0.00000000e+00, 1.00000000e+00, 0.00000000e+00,\n",
       "       0.00000000e+00, 1.24637681e-01])"
      ]
     },
     "execution_count": 465,
     "metadata": {},
     "output_type": "execute_result"
    }
   ],
   "source": [
    "seed = 554545\n",
    "np.random.seed(seed)\n",
    "tf.set_random_seed(seed)\n",
    "X=iris.drop(labels=['GSTATUS'], axis=1).values\n",
    "y = iris.GSTATUS.values\n",
    "train_index = np.random.choice(len(X), round(len(X) * 0.8), replace=False)\n",
    "test_index = np.array(list(set(range(len(X))) - set(train_index)))\n",
    "train_X = X[train_index]\n",
    "train_y = y[train_index]\n",
    "train_X = min_max_normalized(train_X)\n",
    "\n",
    "test_X = X[test_index]\n",
    "test_y = y[test_index]\n",
    "test_X = min_max_normalized(test_X)\n",
    "train_X[1]\n"
   ]
  },
  {
   "cell_type": "code",
   "execution_count": null,
   "metadata": {
    "ExecuteTime": {
     "end_time": "2018-09-18T20:40:32.632005Z",
     "start_time": "2018-09-18T20:40:22.102Z"
    }
   },
   "outputs": [],
   "source": [
    "# Begin building the model framework\n",
    "# Declare the variables that need to be learned and initialization\n",
    "# There are 4 features here, A's dimension is (4, 1)\n",
    "A = tf.Variable(tf.random_normal([74,1]))\n",
    "b = tf.Variable(tf.random_normal([1]))\n",
    "init = tf.global_variables_initializer()\n",
    "sess = tf.Session()\n",
    "sess.run(init)\n",
    "# Define placeholders\n",
    "data = tf.placeholder(tf.float32, [None, 74])\n",
    "# y is placeholder for iris labels. We will feed data later on\n",
    "target = tf.placeholder(tf.float32, [None,1])\n",
    "# Declare the model you needdata to learn\n",
    "mod = tf.matmul(data, A) + b\n",
    "loss = tf.reduce_mean(tf.nn.sigmoid_cross_entropy_with_logits(logits=target, labels=mod))\n",
    "learning_rate = 0.003\n",
    "batch_size = 20\n",
    "iter_num = 12000\n",
    "# Define the optimizer\n",
    "opt = tf.train.GradientDescentOptimizer(learning_rate)\n",
    "# Define the goal\n",
    "goal = opt.minimize(loss)\n",
    "# Define the accuracy\n",
    "# The default threshold is 0.5, rounded off directly\n",
    "prediction = tf.round(tf.sigmoid(mod))\n",
    "# Bool into float32 type\n",
    "correct = tf.cast(tf.equal(prediction, target), dtype=tf.float32)\n",
    "# Average\n",
    "accuracy = tf.reduce_mean(correct)"
   ]
  },
  {
   "cell_type": "code",
   "execution_count": 478,
   "metadata": {
    "ExecuteTime": {
     "end_time": "2018-09-18T23:20:21.541003Z",
     "start_time": "2018-09-18T20:40:35.167190Z"
    }
   },
   "outputs": [
    {
     "name": "stdout",
     "output_type": "stream",
     "text": [
      "epoch:  300 loss: -4.391781 train_acc: 0.116825 test_acc: 0.122267\n",
      "epoch:  600 loss: -1.936313 train_acc: 0.116825 test_acc: 0.122267\n",
      "epoch:  900 loss: -2.005763 train_acc: 0.116825 test_acc: 0.122267\n",
      "epoch: 1200 loss: -5.154890 train_acc: 0.116825 test_acc: 0.122267\n",
      "epoch: 1500 loss: 0.693147 train_acc: 0.116825 test_acc: 0.122267\n",
      "epoch: 1800 loss: -3.467748 train_acc: 0.116825 test_acc: 0.122267\n",
      "epoch: 2100 loss: -5.818618 train_acc: 0.116825 test_acc: 0.122267\n",
      "epoch: 2400 loss: -4.153656 train_acc: 0.116825 test_acc: 0.122267\n",
      "epoch: 2700 loss: -3.804930 train_acc: 0.116825 test_acc: 0.122267\n",
      "epoch: 3000 loss: -1.053800 train_acc: 0.116825 test_acc: 0.122267\n",
      "epoch: 3300 loss: -6.436446 train_acc: 0.116825 test_acc: 0.122267\n",
      "epoch: 3600 loss: -0.920979 train_acc: 0.116825 test_acc: 0.122267\n",
      "epoch: 3900 loss: -4.366910 train_acc: 0.116825 test_acc: 0.122267\n",
      "epoch: 4200 loss: -2.884102 train_acc: 0.116825 test_acc: 0.122267\n",
      "epoch: 4500 loss: -1.367348 train_acc: 0.116825 test_acc: 0.122267\n",
      "epoch: 4800 loss: -1.390212 train_acc: 0.116825 test_acc: 0.122267\n",
      "epoch: 5100 loss: -5.400843 train_acc: 0.116825 test_acc: 0.122267\n",
      "epoch: 5400 loss: 0.693147 train_acc: 0.116825 test_acc: 0.122267\n",
      "epoch: 5700 loss: -3.262943 train_acc: 0.116825 test_acc: 0.122267\n",
      "epoch: 6000 loss: -10.213171 train_acc: 0.116825 test_acc: 0.122267\n",
      "epoch: 6300 loss: -3.182201 train_acc: 0.116825 test_acc: 0.122267\n",
      "epoch: 6600 loss: -4.492564 train_acc: 0.116825 test_acc: 0.122267\n",
      "epoch: 6900 loss: -1.599769 train_acc: 0.116825 test_acc: 0.122267\n",
      "epoch: 7200 loss: -1.265052 train_acc: 0.116825 test_acc: 0.122267\n",
      "epoch: 7500 loss: 0.693147 train_acc: 0.116825 test_acc: 0.122267\n",
      "epoch: 7800 loss: -3.927558 train_acc: 0.116825 test_acc: 0.122267\n",
      "epoch: 8100 loss: 0.693147 train_acc: 0.116825 test_acc: 0.122267\n",
      "epoch: 8400 loss: -8.964666 train_acc: 0.116825 test_acc: 0.122267\n",
      "epoch: 8700 loss: -16.813065 train_acc: 0.116825 test_acc: 0.122267\n",
      "epoch: 9000 loss: -16.414356 train_acc: 0.116825 test_acc: 0.122267\n",
      "epoch: 9300 loss: -3.747268 train_acc: 0.116825 test_acc: 0.122267\n",
      "epoch: 9600 loss: -4.778977 train_acc: 0.116825 test_acc: 0.122267\n",
      "epoch: 9900 loss: -4.820042 train_acc: 0.116825 test_acc: 0.122267\n",
      "epoch: 10200 loss: -3.785354 train_acc: 0.116825 test_acc: 0.122267\n",
      "epoch: 10500 loss: -4.597504 train_acc: 0.116825 test_acc: 0.122267\n",
      "epoch: 10800 loss: -7.728183 train_acc: 0.116825 test_acc: 0.122267\n",
      "epoch: 11100 loss: -7.614513 train_acc: 0.116825 test_acc: 0.122267\n",
      "epoch: 11400 loss: -9.158611 train_acc: 0.116825 test_acc: 0.122267\n",
      "epoch: 11700 loss: -9.174767 train_acc: 0.116825 test_acc: 0.122267\n",
      "epoch: 12000 loss: -13.605286 train_acc: 0.116825 test_acc: 0.122267\n"
     ]
    }
   ],
   "source": [
    "train_y= train_y.reshape(9878,1)\n",
    "test_y= test_y.reshape(2470,1)\n",
    "loss_trace = []\n",
    "train_acc = []\n",
    "test_acc = []\n",
    "for epoch in range(iter_num):\n",
    "    batch_index = np.random.choice(len(train_X), size=batch_size)\n",
    "    batch_train_X = train_X[batch_index]\n",
    "    batch_train_y = train_y[batch_index]\n",
    "    #cost_in_each_epoch = 0\n",
    "            # let's start training\n",
    "            #_, c = sess.run([optimizer, cost], feed_dict={X: train_X, y: train_y})\n",
    "            #cost_in_each_epoch += c\n",
    "            # you can uncomment next two lines of code for printing cost when training\n",
    "            #if (epoch+1) % display_step == 0:\n",
    "                #print(\"Epoch: {}\".format(epoch + 1), \"cost={}\".format(cost_in_each_epoch))\n",
    "    sess.run(goal, feed_dict={data: batch_train_X, target: batch_train_y})\n",
    "    temp_loss = sess.run(loss, feed_dict={data: batch_train_X, target: batch_train_y})\n",
    "    # convert into a matrix, and the shape of the placeholder to correspond\n",
    "    temp_train_acc = sess.run(accuracy, feed_dict={data: train_X, target: train_y})\n",
    "    temp_test_acc = sess.run(accuracy, feed_dict={data: test_X, target: test_y})\n",
    "    # recode the result            # recode the result\n",
    "    loss_trace.append(temp_loss)\n",
    "    train_acc.append(temp_train_acc)\n",
    "    test_acc.append(temp_test_acc)\n",
    "            # output\n",
    "    if (epoch + 1) % 300 == 0:\n",
    "        print('epoch: {:4d} loss: {:5f} train_acc: {:5f} test_acc: {:5f}'.format(epoch + 1, temp_loss,\n",
    "                                                                          temp_train_acc, temp_test_acc))\n",
    "        # Test model\n",
    "        #correct_prediction = tf.equal(tf.argmax(y_, 1), tf.argmax(y, 1))\n",
    "        # Calculate accuracy for 3000 examples\n",
    "        #accuracy = tf.reduce_mean(tf.cast(correct_prediction, tf.float32))\n",
    "        #print(\"Accuracy:\", accuracy.eval({X: train_X2, y: train_y2}))"
   ]
  },
  {
   "cell_type": "code",
   "execution_count": 479,
   "metadata": {
    "ExecuteTime": {
     "end_time": "2018-09-18T23:20:23.997050Z",
     "start_time": "2018-09-18T23:20:23.665239Z"
    }
   },
   "outputs": [
    {
     "data": {
      "image/png": "[encoded data removed]",
      "text/plain": [
       "<Figure size 432x288 with 1 Axes>"
      ]
     },
     "metadata": {},
     "output_type": "display_data"
    }
   ],
   "source": [
    "# Visualization of the results\n",
    "# loss function\n",
    "plt.plot(loss_trace)\n",
    "plt.title('Cross Entropy Loss')\n",
    "plt.xlabel('epoch')\n",
    "plt.ylabel('loss')\n",
    "plt.show()"
   ]
  },
  {
   "cell_type": "code",
   "execution_count": 480,
   "metadata": {
    "ExecuteTime": {
     "end_time": "2018-09-18T23:20:27.150247Z",
     "start_time": "2018-09-18T23:20:26.844422Z"
    }
   },
   "outputs": [
    {
     "data": {
      "image/png": "[encoded data removed]",
      "text/plain": [
       "<Figure size 432x288 with 1 Axes>"
      ]
     },
     "metadata": {},
     "output_type": "display_data"
    }
   ],
   "source": [
    "# accuracy\n",
    "plt.plot(train_acc, \n",
    "         'b-', label='train accuracy')\n",
    "plt.plot(test_acc, 'k-', label='test accuracy')\n",
    "plt.xlabel('epoch')\n",
    "plt.ylabel('accuracy')\n",
    "plt.title('Train and Test Accuracy')\n",
    "plt.legend(loc='best')\n",
    "plt.show()"
   ]
  },
  {
   "cell_type": "code",
   "execution_count": null,
   "metadata": {},
   "outputs": [],
   "source": []
  }
 ],
 "metadata": {
  "kernelspec": {
   "display_name": "Python 3",
   "language": "python",
   "name": "python3"
  },
  "language_info": {
   "codemirror_mode": {
    "name": "ipython",
    "version": 3
   },
   "file_extension": ".py",
   "mimetype": "text/x-python",
   "name": "python",
   "nbconvert_exporter": "python",
   "pygments_lexer": "ipython3",
   "version": "3.6.5"
  },
  "varInspector": {
   "cols": {
    "lenName": 16,
    "lenType": 16,
    "lenVar": 40
   },
   "kernels_config": {
    "python": {
     "delete_cmd_postfix": "",
     "delete_cmd_prefix": "del ",
     "library": "var_list.py",
     "varRefreshCmd": "print(var_dic_list())"
    },
    "r": {
     "delete_cmd_postfix": ") ",
     "delete_cmd_prefix": "rm(",
     "library": "var_list.r",
     "varRefreshCmd": "cat(var_dic_list()) "
    }
   },
   "types_to_exclude": [
    "module",
    "function",
    "builtin_function_or_method",
    "instance",
    "_Feature"
   ],
   "window_display": false
  }
 },
 "nbformat": 4,
 "nbformat_minor": 2
}
